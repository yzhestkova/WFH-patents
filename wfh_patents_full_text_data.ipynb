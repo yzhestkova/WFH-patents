{
 "cells": [
  {
   "cell_type": "markdown",
   "metadata": {},
   "source": [
    "### This code downloads XML bulks of patent FULL TEXT data from USPTO, parses it into a dataframe and creates a flag for patents supporting working-from-home technologies."
   ]
  },
  {
   "cell_type": "code",
   "execution_count": 2,
   "metadata": {},
   "outputs": [],
   "source": [
    "#Uploading necessary packages\n",
    "import pandas as pd\n",
    "import pandas_read_xml as pdx\n",
    "import numpy as np\n",
    "import re\n",
    "import os"
   ]
  },
  {
   "cell_type": "code",
   "execution_count": null,
   "metadata": {},
   "outputs": [],
   "source": [
    "for j in range(2010,2021):\n",
    "    print(\"Processing year {}\".format(j))\n",
    "    \n",
    "    directory = '/Users/yulia_zhestkova/Patent parsing/full text/'+str(j)+'/'\n",
    "    os.chdir('/Users/yulia_zhestkova/Patent parsing/full text/'+str(j)+'/')\n",
    "\n",
    "\n",
    "    i=0\n",
    "    for filename in os.listdir(directory):\n",
    "        if filename.endswith(\".txt\"):\n",
    "            file=open(file=filename, mode='r')\n",
    "            file_content_raw=file.read()\n",
    "            file.close()\n",
    "            text1=re.compile(\"<\\?xml version=\\\"1\\.0\\\" encoding\\=\\\"UTF\\-8\\\"\\?>\")\n",
    "            file_content=text1.split(file_content_raw)\n",
    "            while '' in file_content:\n",
    "                file_content.remove('')\n",
    "        \n",
    "            print(\"Processing file {}\".format(filename)) \n",
    "            df=pd.DataFrame(file_content, columns=['application_full'])\n",
    "            df['application_full'].replace(to_replace=r'\\n', value='', regex=True, inplace=True)\n",
    "            df['application_full'].replace(to_replace=r'\\\"', value='', regex=True, inplace=True)\n",
    "            df['info']=df['application_full'].apply(lambda x: \"\" if re.search(r'<application-reference(.*)</application-reference>', x)==None else re.search(r'<application-reference(.*)</application-reference>', x).group(1))\n",
    "            df['app_id']=df['info'].apply(lambda x: \"\" if re.search(r'<doc-number>(.*)</doc-number>', x)==None else re.search(r'<doc-number>(.*)</doc-number>', x).group(1))\n",
    "            df['date']=df['info'].apply(lambda x: \"\" if re.search(r'<date>(.*)</date>', x)==None else re.search(r'<date>(.*)</date>', x).group(1))\n",
    "            df['description']=df['application_full'].apply(lambda x: \"\" if re.search(r'<\\?summary-of-invention description=Summary of Invention end=lead\\?>(.*)<\\?summary-of-invention description=Summary of Invention end=tail\\?>', x)==None else re.search(r'<\\?summary-of-invention description=Summary of Invention end=lead\\?>(.*)<\\?summary-of-invention description=Summary of Invention end=tail\\?>', x).group(1))\n",
    "            df['description']=df['description'].apply(lambda x: re.sub(r'[^A-Za-z0-9 ]+', '', x))\n",
    "            df=df.drop(['application_full','info'], axis=1)\n",
    "            df['description']=df['description'].str.lower()\n",
    "\n",
    "            if i==0:\n",
    "                master_df=df\n",
    "            else:\n",
    "                master_df=master_df.append(df, ignore_index=True)\n",
    "    \n",
    "            i=i+1\n",
    "            del df\n",
    "\n",
    "    master_df.to_csv(r'completetext'+str(j)+'.csv', index = None)\n",
    "    wfh=['telecommuting', 'telework', 'teleworking', 'working from home', 'mobile work', 'remote work', 'flexible workplace', 'work from home', 'mobile working', 'remote working', 'work remotely', 'working remotely', 'remote workplace', 'telecommuter', 'teleworker', 'home-sourced worker', 'home-sourced employee', 'work-at-home', 'work at home', 'telecommuting specialist', 'nomadic worker', 'nomadic employee', 'work-from-home', 'work-from-anywhere', 'video conference', 'video conferencing', 'virtual office', 'distance work', 'flexible work', 'virtual work', 'virtual office', 'virtual employee', 'home office', 'home-based office', 'home-based work', 'work from anywhere', 'working from anywhere', 'work-from-anywhere', 'digital workplace', 'video chat', 'video call', 'teleconference', 'teleconferencing', 'working from a remote location', 'work from a remote location']\n",
    "\n",
    "\n",
    "    master_df['description']=master_df['description'].replace({w: \"wfhflag\" for w in wfh}, regex=True)\n",
    "    master_df['count flags']=master_df['description'].str.count(\"wfhflag\")\n",
    "    master_df=master_df[['date', 'app_id', 'count flags']]\n",
    "    \n",
    "    master_df.to_csv (r'wfhfflags'+str(j)+'.csv', index = None)"
   ]
  },
  {
   "cell_type": "code",
   "execution_count": null,
   "metadata": {},
   "outputs": [],
   "source": [
    "#Redefining files directory\n",
    "directory = '/Users/yulia_zhestkova/Patent parsing/full text/'\n",
    "os.chdir('/Users/yulia_zhestkova/Patent parsing/full text/')\n",
    "\n",
    "#Processing complete csv files (output of the previous code) \n",
    "for j in range(2010,2021):\n",
    "    print(\"Processing file {}\".format(j))\n",
    "    \n",
    "    df = pd.read_csv(str(j)+'/wfhfflags'+str(j)+'.csv')    \n",
    "    if j==2010:\n",
    "        df_master=df\n",
    "    else:\n",
    "        df_master=df_master.append(df, ignore_index=True)\n",
    "        \n",
    "df_master.to_csv (r'wfhflag.csv', index = None)"
   ]
  }
 ],
 "metadata": {
  "kernelspec": {
   "display_name": "Python 3",
   "language": "python",
   "name": "python3"
  },
  "language_info": {
   "codemirror_mode": {
    "name": "ipython",
    "version": 3
   },
   "file_extension": ".py",
   "mimetype": "text/x-python",
   "name": "python",
   "nbconvert_exporter": "python",
   "pygments_lexer": "ipython3",
   "version": "3.7.4"
  }
 },
 "nbformat": 4,
 "nbformat_minor": 2
}
